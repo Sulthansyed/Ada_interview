{
 "cells": [
  {
   "cell_type": "code",
   "execution_count": 1,
   "metadata": {
    "collapsed": true
   },
   "outputs": [],
   "source": [
    "import findspark\n",
    "findspark.init()"
   ]
  },
  {
   "cell_type": "code",
   "execution_count": 2,
   "metadata": {
    "collapsed": true
   },
   "outputs": [],
   "source": [
    "from pyspark.sql import SparkSession\n",
    "from pyspark.sql.functions import *"
   ]
  },
  {
   "cell_type": "code",
   "execution_count": 3,
   "metadata": {
    "collapsed": true
   },
   "outputs": [],
   "source": [
    "spark = SparkSession.builder.getOrCreate()"
   ]
  },
  {
   "cell_type": "code",
   "execution_count": 4,
   "metadata": {
    "collapsed": true
   },
   "outputs": [],
   "source": [
    "adasampledf = spark.read.option(\"header\", \"true\").option(\"inferSchema\", \"true\").csv('app_log.csv').toDF(\"user_id\",\"connection_type\",\"Date_Time\")"
   ]
  },
  {
   "cell_type": "code",
   "execution_count": 5,
   "metadata": {
    "collapsed": false
   },
   "outputs": [
    {
     "name": "stdout",
     "output_type": "stream",
     "text": [
      "+-------+---------------+--------------------+\n",
      "|user_id|connection_type|           Date_Time|\n",
      "+-------+---------------+--------------------+\n",
      "|      1|           wifi|2018-09-08 00:23:...|\n",
      "|      2|       CELLULAR|2018-09-08 00:23:...|\n",
      "|      3|           wifi|2018-09-08 00:23:...|\n",
      "|      1|       CELLULAR|2018-09-08 00:23:...|\n",
      "|      2|           wifi|2018-09-09 00:23:...|\n",
      "|      3|       CELLULAR|2018-09-10 00:23:...|\n",
      "|      1|           wifi|2018-09-10 00:23:...|\n",
      "|      1|       CELLULAR|2018-09-07 00:23:...|\n",
      "|      2|       CELLULAR|2018-09-08 00:23:...|\n",
      "+-------+---------------+--------------------+\n",
      "\n"
     ]
    }
   ],
   "source": [
    "adasampledf.show()"
   ]
  },
  {
   "cell_type": "code",
   "execution_count": 6,
   "metadata": {
    "collapsed": false
   },
   "outputs": [],
   "source": [
    "adasample_replaced_1 = adasampledf.withColumn('connection_type', regexp_replace('connection_type','wifi','W'))\n",
    "adasample_replaced_2 = adasample_replaced_1.withColumn('connection_type', regexp_replace('connection_type','CELLULAR','C'))"
   ]
  },
  {
   "cell_type": "code",
   "execution_count": 7,
   "metadata": {
    "collapsed": false
   },
   "outputs": [
    {
     "name": "stdout",
     "output_type": "stream",
     "text": [
      "+-------+---------------+--------------------+\n",
      "|user_id|connection_type|           Date_Time|\n",
      "+-------+---------------+--------------------+\n",
      "|      1|              W|2018-09-08 00:23:...|\n",
      "|      2|              C|2018-09-08 00:23:...|\n",
      "|      3|              W|2018-09-08 00:23:...|\n",
      "|      1|              C|2018-09-08 00:23:...|\n",
      "|      2|              W|2018-09-09 00:23:...|\n",
      "|      3|              C|2018-09-10 00:23:...|\n",
      "|      1|              W|2018-09-10 00:23:...|\n",
      "|      1|              C|2018-09-07 00:23:...|\n",
      "|      2|              C|2018-09-08 00:23:...|\n",
      "+-------+---------------+--------------------+\n",
      "\n"
     ]
    }
   ],
   "source": [
    "adasample_replaced_2.show()"
   ]
  },
  {
   "cell_type": "code",
   "execution_count": 8,
   "metadata": {
    "collapsed": true
   },
   "outputs": [],
   "source": [
    "adasample_replaced_2.createOrReplaceTempView('adasample_tbl1')"
   ]
  },
  {
   "cell_type": "code",
   "execution_count": 9,
   "metadata": {
    "collapsed": true
   },
   "outputs": [],
   "source": [
    "query = '''select TO_DATE(CAST(UNIX_TIMESTAMP(Date_Time, 'MM/dd/yyyy') AS TIMESTAMP)) AS newdate from adasample_tbl1'''\n",
    "dfj = spark.sql(query)"
   ]
  },
  {
   "cell_type": "code",
   "execution_count": 10,
   "metadata": {
    "collapsed": false
   },
   "outputs": [
    {
     "name": "stdout",
     "output_type": "stream",
     "text": [
      "+----------+\n",
      "|   newdate|\n",
      "+----------+\n",
      "|2018-09-08|\n",
      "|2018-09-08|\n",
      "|2018-09-08|\n",
      "|2018-09-08|\n",
      "|2018-09-09|\n",
      "|2018-09-10|\n",
      "|2018-09-10|\n",
      "|2018-09-07|\n",
      "|2018-09-08|\n",
      "+----------+\n",
      "\n"
     ]
    }
   ],
   "source": [
    "dfj.show()"
   ]
  },
  {
   "cell_type": "code",
   "execution_count": 11,
   "metadata": {
    "collapsed": true
   },
   "outputs": [],
   "source": [
    "adasampledf1 = spark.read.option(\"header\", \"true\").option(\"inferSchema\", \"true\").csv('user.csv').toDF(\"user_id\",\"user_name\")"
   ]
  },
  {
   "cell_type": "code",
   "execution_count": 12,
   "metadata": {
    "collapsed": false
   },
   "outputs": [
    {
     "name": "stdout",
     "output_type": "stream",
     "text": [
      "+-------+---------+\n",
      "|user_id|user_name|\n",
      "+-------+---------+\n",
      "|      1|   joshua|\n",
      "|      2|     john|\n",
      "|      3|     paul|\n",
      "|      1|   joshua|\n",
      "|      2|       jo|\n",
      "+-------+---------+\n",
      "\n"
     ]
    }
   ],
   "source": [
    "adasampledf1.show()"
   ]
  },
  {
   "cell_type": "code",
   "execution_count": 13,
   "metadata": {
    "collapsed": true
   },
   "outputs": [],
   "source": [
    "adasampledf1.createOrReplaceTempView('adasample_tbl2')"
   ]
  },
  {
   "cell_type": "code",
   "execution_count": 14,
   "metadata": {
    "collapsed": true
   },
   "outputs": [],
   "source": [
    "query = '''select * from adasample_tbl2'''\n",
    "dfj = spark.sql(query)"
   ]
  },
  {
   "cell_type": "code",
   "execution_count": 15,
   "metadata": {
    "collapsed": false
   },
   "outputs": [
    {
     "name": "stdout",
     "output_type": "stream",
     "text": [
      "+-------+---------+\n",
      "|user_id|user_name|\n",
      "+-------+---------+\n",
      "|      1|   joshua|\n",
      "|      2|     john|\n",
      "|      3|     paul|\n",
      "|      1|   joshua|\n",
      "|      2|       jo|\n",
      "+-------+---------+\n",
      "\n"
     ]
    }
   ],
   "source": [
    "dfj.show()"
   ]
  },
  {
   "cell_type": "code",
   "execution_count": 16,
   "metadata": {
    "collapsed": true
   },
   "outputs": [],
   "source": [
    "query = '''select\n",
    "            b.user_name,\n",
    "            a.user_id,\n",
    "            TO_DATE(CAST(UNIX_TIMESTAMP(a.Date_Time, 'MM/dd/yyyy') AS TIMESTAMP)) AS date,\n",
    "            count(a.user_id) as count\n",
    "            from adasample_tbl1 a join adasample_tbl2 b \n",
    "            on a.user_id = b.user_id \n",
    "            group by user_name,a.user_id,TO_DATE(CAST(UNIX_TIMESTAMP(a.Date_Time, 'MM/dd/yyyy') AS TIMESTAMP)) '''"
   ]
  },
  {
   "cell_type": "code",
   "execution_count": 17,
   "metadata": {
    "collapsed": false
   },
   "outputs": [],
   "source": [
    "dfj = spark.sql(query)"
   ]
  },
  {
   "cell_type": "code",
   "execution_count": 18,
   "metadata": {
    "collapsed": false
   },
   "outputs": [
    {
     "name": "stdout",
     "output_type": "stream",
     "text": [
      "+---------+-------+----------+-----+\n",
      "|user_name|user_id|      date|count|\n",
      "+---------+-------+----------+-----+\n",
      "|     paul|      3|2018-09-10|    1|\n",
      "|   joshua|      1|2018-09-10|    2|\n",
      "|       jo|      2|2018-09-08|    2|\n",
      "|   joshua|      1|2018-09-07|    2|\n",
      "|     paul|      3|2018-09-08|    1|\n",
      "|     john|      2|2018-09-09|    1|\n",
      "|     john|      2|2018-09-08|    2|\n",
      "|       jo|      2|2018-09-09|    1|\n",
      "|   joshua|      1|2018-09-08|    4|\n",
      "+---------+-------+----------+-----+\n",
      "\n"
     ]
    }
   ],
   "source": [
    "dfj.show()"
   ]
  },
  {
   "cell_type": "code",
   "execution_count": 19,
   "metadata": {
    "collapsed": true
   },
   "outputs": [],
   "source": [
    "query = '''select\n",
    "            user_name,\n",
    "            sum(visitcount) as visit_count,\n",
    "            month(date) as dt_mn\n",
    "            from(\n",
    "            select\n",
    "            b.user_name,\n",
    "            a.user_id,\n",
    "            TO_DATE(CAST(UNIX_TIMESTAMP(a.Date_Time, 'MM/dd/yyyy') AS TIMESTAMP)) AS date,\n",
    "            count(a.user_id) as visitcount\n",
    "            from adasample_tbl1 a join adasample_tbl2 b \n",
    "            on a.user_id = b.user_id \n",
    "            group by user_name,a.user_id,TO_DATE(CAST(UNIX_TIMESTAMP(a.Date_Time, 'MM/dd/yyyy') AS TIMESTAMP))) base group by user_name,month(date)'''"
   ]
  },
  {
   "cell_type": "code",
   "execution_count": 20,
   "metadata": {
    "collapsed": false
   },
   "outputs": [],
   "source": [
    "dfj = spark.sql(query)"
   ]
  },
  {
   "cell_type": "code",
   "execution_count": 21,
   "metadata": {
    "collapsed": false
   },
   "outputs": [
    {
     "name": "stdout",
     "output_type": "stream",
     "text": [
      "+---------+-----------+-----+\n",
      "|user_name|visit_count|dt_mn|\n",
      "+---------+-----------+-----+\n",
      "|       jo|          3|    9|\n",
      "|     john|          3|    9|\n",
      "|     paul|          2|    9|\n",
      "|   joshua|          8|    9|\n",
      "+---------+-----------+-----+\n",
      "\n"
     ]
    }
   ],
   "source": [
    "dfj.show()"
   ]
  },
  {
   "cell_type": "code",
   "execution_count": 22,
   "metadata": {
    "collapsed": true
   },
   "outputs": [],
   "source": [
    "query = '''select\n",
    "            user_name,\n",
    "            visit_count,\n",
    "            case when visit_count >= '3' then 'H'\n",
    "            when visit_count = '2' then 'M'\n",
    "            when visit_count <= '1' then 'L'\n",
    "            end as grade\n",
    "            from(\n",
    "            select\n",
    "            user_name,\n",
    "            sum(visitcount) as visit_count,\n",
    "            month(date) as dt_mn\n",
    "            from(\n",
    "            select\n",
    "            b.user_name,\n",
    "            a.user_id,\n",
    "            TO_DATE(CAST(UNIX_TIMESTAMP(a.Date_Time, 'MM/dd/yyyy') AS TIMESTAMP)) AS date,\n",
    "            count(a.user_id) as visitcount\n",
    "            from adasample_tbl1 a join adasample_tbl2 b \n",
    "            on a.user_id = b.user_id \n",
    "            group by user_name,a.user_id,TO_DATE(CAST(UNIX_TIMESTAMP(a.Date_Time, 'MM/dd/yyyy') AS TIMESTAMP))) base group by user_name,month(date)) new'''"
   ]
  },
  {
   "cell_type": "code",
   "execution_count": 23,
   "metadata": {
    "collapsed": false
   },
   "outputs": [],
   "source": [
    "dfj = spark.sql(query)"
   ]
  },
  {
   "cell_type": "code",
   "execution_count": 24,
   "metadata": {
    "collapsed": false
   },
   "outputs": [
    {
     "name": "stdout",
     "output_type": "stream",
     "text": [
      "+---------+-----------+-----+\n",
      "|user_name|visit_count|grade|\n",
      "+---------+-----------+-----+\n",
      "|       jo|          3|    H|\n",
      "|     john|          3|    H|\n",
      "|     paul|          2|    M|\n",
      "|   joshua|          8|    H|\n",
      "+---------+-----------+-----+\n",
      "\n"
     ]
    }
   ],
   "source": [
    "dfj.show()"
   ]
  },
  {
   "cell_type": "code",
   "execution_count": 30,
   "metadata": {
    "collapsed": false
   },
   "outputs": [],
   "source": [
    "adasmpljson = spark.read.json('part-00001')"
   ]
  },
  {
   "cell_type": "code",
   "execution_count": 31,
   "metadata": {
    "collapsed": false
   },
   "outputs": [
    {
     "name": "stdout",
     "output_type": "stream",
     "text": [
      "+----------------------------------------------------------------------------------------------------------------------------------------------------------------------------+---+------------------------------------------------------+-----------------------------------------------------------------------------------------+-----------------------------------------------------------------------------------------------------------------------------------------------------------------------------------------------------------------------------------------------------------------------------------------------------------------------------+-----+-------------------+-------------------+-------------------+--------+--------------------------------+-------------+--------+-------------+----+\n",
      "|asn_exchange                                                                                                                                                                |brq|brq_carrier                                           |carrier_connection_type                                                                  |device                                                                                                                                                                                                                                                                                                                       |dnt  |dnt_date           |first_seen         |last_seen          |location|mw_did                          |mw_did_source|num_days|source       |user|\n",
      "+----------------------------------------------------------------------------------------------------------------------------------------------------------------------------+---+------------------------------------------------------+-----------------------------------------------------------------------------------------+-----------------------------------------------------------------------------------------------------------------------------------------------------------------------------------------------------------------------------------------------------------------------------------------------------------------------------+-----+-------------------+-------------------+-------------------+--------+--------------------------------+-------------+--------+-------------+----+\n",
      "|[[CM Security,1,com.cleanmaster.security,WrappedArray([1,CELLULAR,2019-01-02 11:24:27,2019-01-02 11:24:27,1]),MOPUB,2019-01-02 11:24:27,2019-01-02 11:24:27,1]]             |1  |[[1,502-19,2019-01-02 11:24:27,2019-01-02 11:24:27,1]]|[[1,Celcom Internet Service Provider,CELLULAR,2019-01-02 11:24:27,2019-01-02 11:24:27,1]]|[SMART PHONE,,Galaxy J5 Prime,,35503e6e-ad86-4f2e-816b-621ae67d06a3,ANDROID 8,,,cfeb406be743d41b5830bb401824e090,ANDROID,,74f720c22e7ca0ac17144775f3fde10d36a3305a,Mozilla/5.0 (Linux; Android 8.0.0; SM-G570Y Build/R16NW) AppleWebKit/537.36 (KHTML, like Gecko) Version/4.0 Chrome/39.0.0.0 Mobile Safari/537.36,]        |false|1970-01-01 00:00:00|2019-01-02 11:24:27|2019-01-02 11:24:27|[]      |cfeb406be743d41b5830bb401824e090|ifa          |1       |[[mopub,rtb]]|[,0]|\n",
      "|[[Clean Master Lite,4,com.cmcm.lite,WrappedArray([4,CELLULAR,2019-01-02 12:38:24,2019-01-02 12:38:26,1]),MOPUB,2019-01-02 12:38:24,2019-01-02 12:38:26,1]]                  |4  |[[4,502-19,2019-01-02 12:38:24,2019-01-02 12:38:26,1]]|[[4,Celcom Internet Service Provider,CELLULAR,2019-01-02 12:38:24,2019-01-02 12:38:26,1]]|[NIL,,NIL,,,NIL NIL,,,,NIL,,c3dc8e8cebdf42c7453e49a63926d04ebec01344,Mozilla/5.0 (Linux; U; Android 4.2.2; ms-my; NOTE VIVO Build/JDQ39) AppleWebKit/534.30 (KHTML, like Gecko) Version/4.0 Mobile Safari/534.30,]                                                                                                           |false|1970-01-01 00:00:00|2019-01-02 12:38:24|2019-01-02 12:38:26|[]      |843b41203849c34ce7b743c33e528fe4|sha1Dpid     |1       |[[mopub,rtb]]|[,0]|\n",
      "|[[polaris Office,1,com.infraware.office.link,WrappedArray([1,CELLULAR,2019-01-02 05:37:14,2019-01-02 05:37:14,1]),MOPUB,2019-01-02 05:37:14,2019-01-02 05:37:14,1]]         |1  |[[1,502-12,2019-01-02 05:37:14,2019-01-02 05:37:14,1]]|[[1,Maxis Communications,CELLULAR,2019-01-02 05:37:14,2019-01-02 05:37:14,1]]            |[SMART PHONE,,Galaxy Note 8,,583b7a6a-582e-418d-8446-e15d23c09c4d,ANDROID 8,,,0f0a753e15201cb5030231f18a09a499,ANDROID,,2a05eb863cf76e063d9d5e0f20ecaa1180bb48d1,Mozilla/5.0 (Linux; Android 8.0.0; SM-N950F Build/R16NW; wv) AppleWebKit/537.36 (KHTML, like Gecko) Version/4.0 Chrome/71.0.3578.99 Mobile Safari/537.36,]  |false|1970-01-01 00:00:00|2019-01-02 05:37:14|2019-01-02 05:37:14|[]      |0f0a753e15201cb5030231f18a09a499|ifa          |1       |[[mopub,rtb]]|[,0]|\n",
      "|[[InShot-iOS,4,997362197,WrappedArray([4,CELLULAR,2019-01-02 21:33:49,2019-01-02 21:36:48,1]),MOPUB,2019-01-02 21:33:49,2019-01-02 21:36:48,1]]                             |4  |[[4,502-16,2019-01-02 21:33:49,2019-01-02 21:36:48,1]]|[[4,Digi,CELLULAR,2019-01-02 21:33:49,2019-01-02 21:36:48,1]]                            |[SMART PHONE,,iPhone,,04f27685-4e42-4b7c-a839-f3958633a0f6,IOS 12,,,5413d6bee46105d78ed1358d44653247,IOS,,20826f3014b7cbbb56cfd997707b98841fb743f3,Mozilla/5.0 (iPhone; CPU iPhone OS 12_0 like Mac OS X) AppleWebKit/605.1.15 (KHTML, like Gecko) Mobile/16A366,]                                                           |false|1970-01-01 00:00:00|2019-01-02 21:33:49|2019-01-02 21:36:48|[]      |5413d6bee46105d78ed1358d44653247|ifa          |1       |[[mopub,rtb]]|[,0]|\n",
      "|[[First Touch Soccer 2015,2,com.firsttouchgames.fts15,WrappedArray([2,CELLULAR,2019-01-02 13:49:08,2019-01-02 13:49:18,1]),MOPUB,2019-01-02 13:49:08,2019-01-02 13:49:18,1]]|2  |[[2,502-16,2019-01-02 13:49:08,2019-01-02 13:49:18,1]]|[[2,Digi,CELLULAR,2019-01-02 13:49:08,2019-01-02 13:49:18,1]]                            |[SMART PHONE,,Galaxy A7 (2016),,b57f1839-7f94-47be-bb01-dfc7f5497f7c,ANDROID 7,,,4487f0ff518ec9831f84ac8441bab2f1,ANDROID,,2bf19ff36eac605e7c6818ba1884b29d921e8984,Mozilla/5.0 (Linux; Android 7.0; SM-A710F Build/NRD90M; wv) AppleWebKit/537.36 (KHTML, like Gecko) Version/4.0 Chrome/68.0.3440.91 Mobile Safari/537.36,]|false|1970-01-01 00:00:00|2019-01-02 13:49:08|2019-01-02 13:49:18|[]      |4487f0ff518ec9831f84ac8441bab2f1|ifa          |1       |[[mopub,rtb]]|[,0]|\n",
      "+----------------------------------------------------------------------------------------------------------------------------------------------------------------------------+---+------------------------------------------------------+-----------------------------------------------------------------------------------------+-----------------------------------------------------------------------------------------------------------------------------------------------------------------------------------------------------------------------------------------------------------------------------------------------------------------------------+-----+-------------------+-------------------+-------------------+--------+--------------------------------+-------------+--------+-------------+----+\n",
      "only showing top 5 rows\n",
      "\n"
     ]
    }
   ],
   "source": [
    "adasmpljson.show(5,False)"
   ]
  },
  {
   "cell_type": "code",
   "execution_count": 32,
   "metadata": {
    "collapsed": false
   },
   "outputs": [
    {
     "name": "stdout",
     "output_type": "stream",
     "text": [
      "root\n",
      " |-- asn_exchange: array (nullable = true)\n",
      " |    |-- element: struct (containsNull = true)\n",
      " |    |    |-- asn: string (nullable = true)\n",
      " |    |    |-- brq: long (nullable = true)\n",
      " |    |    |-- bundle: string (nullable = true)\n",
      " |    |    |-- connection_types: array (nullable = true)\n",
      " |    |    |    |-- element: struct (containsNull = true)\n",
      " |    |    |    |    |-- brq: long (nullable = true)\n",
      " |    |    |    |    |-- connection_type: string (nullable = true)\n",
      " |    |    |    |    |-- first_seen: string (nullable = true)\n",
      " |    |    |    |    |-- last_seen: string (nullable = true)\n",
      " |    |    |    |    |-- num_days: long (nullable = true)\n",
      " |    |    |-- exchange: string (nullable = true)\n",
      " |    |    |-- first_seen: string (nullable = true)\n",
      " |    |    |-- last_seen: string (nullable = true)\n",
      " |    |    |-- num_days: long (nullable = true)\n",
      " |-- brq: long (nullable = true)\n",
      " |-- brq_carrier: array (nullable = true)\n",
      " |    |-- element: struct (containsNull = true)\n",
      " |    |    |-- brq: long (nullable = true)\n",
      " |    |    |-- carrier: string (nullable = true)\n",
      " |    |    |-- first_seen: string (nullable = true)\n",
      " |    |    |-- last_seen: string (nullable = true)\n",
      " |    |    |-- num_days: long (nullable = true)\n",
      " |-- carrier_connection_type: array (nullable = true)\n",
      " |    |-- element: struct (containsNull = true)\n",
      " |    |    |-- brq: long (nullable = true)\n",
      " |    |    |-- carrier: string (nullable = true)\n",
      " |    |    |-- connection_type: string (nullable = true)\n",
      " |    |    |-- first_seen: string (nullable = true)\n",
      " |    |    |-- last_seen: string (nullable = true)\n",
      " |    |    |-- num_days: long (nullable = true)\n",
      " |-- device: struct (nullable = true)\n",
      " |    |-- device_category: string (nullable = true)\n",
      " |    |-- device_model: string (nullable = true)\n",
      " |    |-- device_name: string (nullable = true)\n",
      " |    |-- device_vendor: string (nullable = true)\n",
      " |    |-- ifa: string (nullable = true)\n",
      " |    |-- major_os: string (nullable = true)\n",
      " |    |-- manufacturer: string (nullable = true)\n",
      " |    |-- md5_did: string (nullable = true)\n",
      " |    |-- md5_dpid: string (nullable = true)\n",
      " |    |-- platform: string (nullable = true)\n",
      " |    |-- sha1_did: string (nullable = true)\n",
      " |    |-- sha1_dpid: string (nullable = true)\n",
      " |    |-- user_agent: string (nullable = true)\n",
      " |    |-- year_released: string (nullable = true)\n",
      " |-- dnt: boolean (nullable = true)\n",
      " |-- dnt_date: string (nullable = true)\n",
      " |-- first_seen: string (nullable = true)\n",
      " |-- last_seen: string (nullable = true)\n",
      " |-- location: array (nullable = true)\n",
      " |    |-- element: struct (containsNull = true)\n",
      " |    |    |-- brq: long (nullable = true)\n",
      " |    |    |-- city: string (nullable = true)\n",
      " |    |    |-- connection_types: array (nullable = true)\n",
      " |    |    |    |-- element: struct (containsNull = true)\n",
      " |    |    |    |    |-- brq: long (nullable = true)\n",
      " |    |    |    |    |-- connection_type: string (nullable = true)\n",
      " |    |    |    |    |-- first_seen: string (nullable = true)\n",
      " |    |    |    |    |-- last_seen: string (nullable = true)\n",
      " |    |    |    |    |-- num_days: long (nullable = true)\n",
      " |    |    |-- country: string (nullable = true)\n",
      " |    |    |-- day_part: string (nullable = true)\n",
      " |    |    |-- dma: string (nullable = true)\n",
      " |    |    |-- first_seen: string (nullable = true)\n",
      " |    |    |-- geohash: string (nullable = true)\n",
      " |    |    |-- last_seen: string (nullable = true)\n",
      " |    |    |-- num_days: long (nullable = true)\n",
      " |    |    |-- state: string (nullable = true)\n",
      " |    |    |-- zip: string (nullable = true)\n",
      " |-- mw_did: string (nullable = true)\n",
      " |-- mw_did_source: string (nullable = true)\n",
      " |-- num_days: long (nullable = true)\n",
      " |-- source: array (nullable = true)\n",
      " |    |-- element: struct (containsNull = true)\n",
      " |    |    |-- source_name: string (nullable = true)\n",
      " |    |    |-- source_type: string (nullable = true)\n",
      " |-- user: struct (nullable = true)\n",
      " |    |-- gender: string (nullable = true)\n",
      " |    |-- yob: long (nullable = true)\n",
      "\n"
     ]
    }
   ],
   "source": [
    "adasmpljson.printSchema()"
   ]
  },
  {
   "cell_type": "code",
   "execution_count": 36,
   "metadata": {
    "collapsed": false
   },
   "outputs": [
    {
     "name": "stdout",
     "output_type": "stream",
     "text": [
      "+------------------------------------+\n",
      "|ifa                                 |\n",
      "+------------------------------------+\n",
      "|35503e6e-ad86-4f2e-816b-621ae67d06a3|\n",
      "|                                    |\n",
      "|583b7a6a-582e-418d-8446-e15d23c09c4d|\n",
      "|04f27685-4e42-4b7c-a839-f3958633a0f6|\n",
      "|b57f1839-7f94-47be-bb01-dfc7f5497f7c|\n",
      "|d85d7d66-d654-4225-8d42-a048ad90d96e|\n",
      "|c508ff8c-8455-4e81-8aec-d6921b89fa41|\n",
      "|b972f1fd-9edc-4e2f-8411-bc75819b5235|\n",
      "|e9b14cab-616f-490f-b7d0-5363f45b569e|\n",
      "|769e97d6-d6c2-40d7-b835-0127410e2400|\n",
      "+------------------------------------+\n",
      "only showing top 10 rows\n",
      "\n"
     ]
    }
   ],
   "source": [
    "cols = ['device.ifa']\n",
    "adasmpljson.select(cols).show(10,False)"
   ]
  },
  {
   "cell_type": "code",
   "execution_count": 40,
   "metadata": {
    "collapsed": false
   },
   "outputs": [],
   "source": [
    "adasmpljson.createOrReplaceTempView('jsonsmpltbl')"
   ]
  },
  {
   "cell_type": "code",
   "execution_count": 44,
   "metadata": {
    "collapsed": true
   },
   "outputs": [],
   "source": [
    "query = '''select distinct(length(device.ifa)) as ifale from jsonsmpltbl'''"
   ]
  },
  {
   "cell_type": "code",
   "execution_count": 45,
   "metadata": {
    "collapsed": true
   },
   "outputs": [],
   "source": [
    "jsonq = spark.sql(query)"
   ]
  },
  {
   "cell_type": "code",
   "execution_count": 46,
   "metadata": {
    "collapsed": false
   },
   "outputs": [
    {
     "name": "stdout",
     "output_type": "stream",
     "text": [
      "+-----+\n",
      "|ifale|\n",
      "+-----+\n",
      "|    0|\n",
      "|   36|\n",
      "+-----+\n",
      "\n"
     ]
    }
   ],
   "source": [
    "jsonq.show()"
   ]
  },
  {
   "cell_type": "code",
   "execution_count": 47,
   "metadata": {
    "collapsed": true
   },
   "outputs": [],
   "source": [
    "query = '''select count(1) from jsonsmpltbl where length(device.ifa) = 0 '''"
   ]
  },
  {
   "cell_type": "code",
   "execution_count": 48,
   "metadata": {
    "collapsed": true
   },
   "outputs": [],
   "source": [
    "jsonq1 = spark.sql(query)"
   ]
  },
  {
   "cell_type": "code",
   "execution_count": 49,
   "metadata": {
    "collapsed": false
   },
   "outputs": [
    {
     "name": "stdout",
     "output_type": "stream",
     "text": [
      "+--------+\n",
      "|count(1)|\n",
      "+--------+\n",
      "|      52|\n",
      "+--------+\n",
      "\n"
     ]
    }
   ],
   "source": [
    "jsonq1.show()"
   ]
  },
  {
   "cell_type": "code",
   "execution_count": 52,
   "metadata": {
    "collapsed": true
   },
   "outputs": [],
   "source": [
    "query = '''select count(1) from jsonsmpltbl '''\n",
    "jsonq2 = spark.sql(query)"
   ]
  },
  {
   "cell_type": "code",
   "execution_count": 53,
   "metadata": {
    "collapsed": false
   },
   "outputs": [
    {
     "name": "stdout",
     "output_type": "stream",
     "text": [
      "+--------+\n",
      "|count(1)|\n",
      "+--------+\n",
      "|    5027|\n",
      "+--------+\n",
      "\n"
     ]
    }
   ],
   "source": [
    "jsonq2.show()"
   ]
  },
  {
   "cell_type": "code",
   "execution_count": 58,
   "metadata": {
    "collapsed": false
   },
   "outputs": [],
   "source": [
    "adasmpljson_fix = adasmpljson.filter(\"length(device.ifa) != 0 \")"
   ]
  },
  {
   "cell_type": "code",
   "execution_count": 59,
   "metadata": {
    "collapsed": false
   },
   "outputs": [
    {
     "name": "stdout",
     "output_type": "stream",
     "text": [
      "+------------------------------------+\n",
      "|ifa                                 |\n",
      "+------------------------------------+\n",
      "|35503e6e-ad86-4f2e-816b-621ae67d06a3|\n",
      "|583b7a6a-582e-418d-8446-e15d23c09c4d|\n",
      "|04f27685-4e42-4b7c-a839-f3958633a0f6|\n",
      "|b57f1839-7f94-47be-bb01-dfc7f5497f7c|\n",
      "|d85d7d66-d654-4225-8d42-a048ad90d96e|\n",
      "|c508ff8c-8455-4e81-8aec-d6921b89fa41|\n",
      "|b972f1fd-9edc-4e2f-8411-bc75819b5235|\n",
      "|e9b14cab-616f-490f-b7d0-5363f45b569e|\n",
      "|769e97d6-d6c2-40d7-b835-0127410e2400|\n",
      "|e957cf62-112f-4586-ae55-cb7563514824|\n",
      "+------------------------------------+\n",
      "only showing top 10 rows\n",
      "\n"
     ]
    }
   ],
   "source": [
    "cols = ['device.ifa']\n",
    "adasmpljson_fix.select(cols).show(10,False)"
   ]
  },
  {
   "cell_type": "code",
   "execution_count": 65,
   "metadata": {
    "collapsed": false
   },
   "outputs": [],
   "source": [
    "adasmpljson_fix.createOrReplaceTempView('jsonsmpltbl_fix')"
   ]
  },
  {
   "cell_type": "code",
   "execution_count": 66,
   "metadata": {
    "collapsed": true
   },
   "outputs": [],
   "source": [
    "query = '''select count(1) from jsonsmpltbl_fix '''\n",
    "jsonq3 = spark.sql(query)"
   ]
  },
  {
   "cell_type": "code",
   "execution_count": 67,
   "metadata": {
    "collapsed": false
   },
   "outputs": [
    {
     "name": "stdout",
     "output_type": "stream",
     "text": [
      "+--------+\n",
      "|count(1)|\n",
      "+--------+\n",
      "|    4975|\n",
      "+--------+\n",
      "\n"
     ]
    }
   ],
   "source": [
    "jsonq3.show()"
   ]
  },
  {
   "cell_type": "code",
   "execution_count": 70,
   "metadata": {
    "collapsed": true
   },
   "outputs": [],
   "source": [
    "query = '''select brq_carrier.carrier,count(device.ifa) from jsonsmpltbl group by brq_carrier.carrier '''\n",
    "jsonq4 = spark.sql(query)"
   ]
  },
  {
   "cell_type": "code",
   "execution_count": 71,
   "metadata": {
    "collapsed": false
   },
   "outputs": [
    {
     "name": "stdout",
     "output_type": "stream",
     "text": [
      "+--------------------+--------------------------+\n",
      "|             carrier|count(device.ifa AS `ifa`)|\n",
      "+--------------------+--------------------------+\n",
      "|[502-16, u mobile...|                         1|\n",
      "|            [214-01]|                         1|\n",
      "|           [502-152]|                         6|\n",
      "|    [502-19, 502-16]|                         1|\n",
      "|    [502-19, 502-18]|                         1|\n",
      "|            [502-12]|                      1033|\n",
      "|[502-18, digi, 50...|                         1|\n",
      "|[digi, celcom, 50...|                         1|\n",
      "|            [450-08]|                         1|\n",
      "|            [502-19]|                       975|\n",
      "|            [510-10]|                         3|\n",
      "|    [502-16, 525-03]|                         1|\n",
      "|          [u mobile]|                        97|\n",
      "|            [454-04]|                         1|\n",
      "|            [525-05]|                         5|\n",
      "|    [502-12, 502-16]|                         2|\n",
      "|    [502-16, 502-12]|                         3|\n",
      "|    [502-16, 502-18]|                         1|\n",
      "|     [digi, 502-152]|                         1|\n",
      "|                  []|                       526|\n",
      "+--------------------+--------------------------+\n",
      "only showing top 20 rows\n",
      "\n"
     ]
    }
   ],
   "source": [
    "jsonq4.show()"
   ]
  },
  {
   "cell_type": "code",
   "execution_count": null,
   "metadata": {
    "collapsed": true
   },
   "outputs": [],
   "source": []
  }
 ],
 "metadata": {
  "anaconda-cloud": {},
  "kernelspec": {
   "display_name": "Python [default]",
   "language": "python",
   "name": "python3"
  },
  "language_info": {
   "codemirror_mode": {
    "name": "ipython",
    "version": 3
   },
   "file_extension": ".py",
   "mimetype": "text/x-python",
   "name": "python",
   "nbconvert_exporter": "python",
   "pygments_lexer": "ipython3",
   "version": "3.5.2"
  }
 },
 "nbformat": 4,
 "nbformat_minor": 1
}
